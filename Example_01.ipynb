{
 "cells": [
  {
   "cell_type": "markdown",
   "id": "d4a7427f",
   "metadata": {},
   "source": [
    "- Recomendação de artigos, em que cada artigo é um \"arm\" e os valores entre 0 e 1 são as recompensas representadas pelos cliques nos artigos"
   ]
  },
  {
   "cell_type": "code",
   "execution_count": null,
   "id": "6e782ef6",
   "metadata": {},
   "outputs": [],
   "source": []
  }
 ],
 "metadata": {
  "kernelspec": {
   "display_name": "Python 3 (ipykernel)",
   "language": "python",
   "name": "python3"
  },
  "language_info": {
   "codemirror_mode": {
    "name": "ipython",
    "version": 3
   },
   "file_extension": ".py",
   "mimetype": "text/x-python",
   "name": "python",
   "nbconvert_exporter": "python",
   "pygments_lexer": "ipython3",
   "version": "3.9.12"
  }
 },
 "nbformat": 4,
 "nbformat_minor": 5
}
